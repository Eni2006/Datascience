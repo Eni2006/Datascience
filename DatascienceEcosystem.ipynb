{
  "metadata": {
    "kernelspec": {
      "name": "python",
      "display_name": "Python (Pyodide)",
      "language": "python"
    },
    "language_info": {
      "codemirror_mode": {
        "name": "python",
        "version": 3
      },
      "file_extension": ".py",
      "mimetype": "text/x-python",
      "name": "python",
      "nbconvert_exporter": "python",
      "pygments_lexer": "ipython3",
      "version": "3.8"
    }
  },
  "nbformat_minor": 5,
  "nbformat": 4,
  "cells": [
    {
      "id": "be20ea23-236f-4eb6-8dd4-3a56884d3c79",
      "cell_type": "markdown",
      "source": "**Data Science Tools and Ecosystem**",
      "metadata": {}
    },
    {
      "id": "e184800a-4775-46b2-8ab8-71654d008698",
      "cell_type": "markdown",
      "source": "In this notebook, Data Science Tools and Ecosystem are summarized.",
      "metadata": {}
    },
    {
      "id": "5b287cd6-511c-4d33-b6e2-bd5748cc0c41",
      "cell_type": "markdown",
      "source": "Some of the popularlanguages that Data scientists use are:",
      "metadata": {}
    },
    {
      "id": "2046d75e-0784-4417-a87e-89a3a97ac104",
      "cell_type": "markdown",
      "source": "1)python\n2)R\n3)SQL\n4)Java etc..",
      "metadata": {}
    },
    {
      "id": "50773520-0a19-4ccb-b7af-8fd9d6f31a7d",
      "cell_type": "markdown",
      "source": "Some of the commonly used libraries used by Data Scientists include:\n\n1.TensorFlow.\n\n2.Pandas.\n\n3.Numpy\n\n4.Keras.\n\n5.Pytorch etc..;",
      "metadata": {}
    },
    {
      "id": "40d4f9b7-d297-430f-9d47-61caaf3ed69b",
      "cell_type": "markdown",
      "source": "|Data science Tools|\n|---|\n|SAS|\n|Apache Hadoop|\n|TensorFlow|",
      "metadata": {}
    },
    {
      "id": "3e7508c1-7ade-4bd4-ba94-49356564198b",
      "cell_type": "markdown",
      "source": "***Below are a few examples of evaluating arithmetic expressions in Python.***",
      "metadata": {}
    },
    {
      "id": "0f2a2a59-f100-4430-9ea6-6cd2520e28c3",
      "cell_type": "code",
      "source": "#this is a common arithmetic example to multiply and then add integers.\n(3*4)+5",
      "metadata": {
        "trusted": true
      },
      "outputs": [
        {
          "execution_count": 1,
          "output_type": "execute_result",
          "data": {
            "text/plain": "17"
          },
          "metadata": {}
        }
      ],
      "execution_count": 1
    },
    {
      "id": "17fe90a7-35ec-4c69-9c77-d6e59af46119",
      "cell_type": "code",
      "source": "#this will convert 200 minutes to hurs by dividing by 60.\n200/60",
      "metadata": {
        "trusted": true
      },
      "outputs": [
        {
          "execution_count": 2,
          "output_type": "execute_result",
          "data": {
            "text/plain": "3.3333333333333335"
          },
          "metadata": {}
        }
      ],
      "execution_count": 2
    },
    {
      "id": "5e00999e-80cf-4ff5-ae80-4b3ffabb48a0",
      "cell_type": "markdown",
      "source": "**objective**\n\n.list popular languages for data science\n\n.list popular libraries for data science\n\n.How to provide comments in the cell\n\n.List fo wellknown data science tools\n",
      "metadata": {}
    },
    {
      "id": "a3e95aaf-9063-471d-8b7d-18fd7f0134dd",
      "cell_type": "markdown",
      "source": "**Author**\n",
      "metadata": {}
    },
    {
      "id": "2b167b6d-0344-4b78-9f34-57bdfe55ed5e",
      "cell_type": "markdown",
      "source": "Eniyal SI",
      "metadata": {}
    }
  ]
}